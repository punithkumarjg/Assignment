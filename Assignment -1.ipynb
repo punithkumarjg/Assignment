{
 "cells": [
  {
   "cell_type": "markdown",
   "id": "47282af6",
   "metadata": {},
   "source": [
    "### 1. In the below elements which of them are values or an expression? eg:- values can be integer or string and expressions will be mathematical operators."
   ]
  },
  {
   "cell_type": "markdown",
   "id": "f2b148ff",
   "metadata": {},
   "source": [
    "#### * multiplication oprator"
   ]
  },
  {
   "cell_type": "markdown",
   "id": "0f803724",
   "metadata": {},
   "source": [
    "#### 'hello' it is String."
   ]
  },
  {
   "cell_type": "markdown",
   "id": "a7b6047a",
   "metadata": {},
   "source": [
    "#### -87.8   Negative floating point"
   ]
  },
  {
   "cell_type": "markdown",
   "id": "64c1244c",
   "metadata": {},
   "source": [
    "#### - Substracting oprator"
   ]
  },
  {
   "cell_type": "markdown",
   "id": "2c8fd488",
   "metadata": {},
   "source": [
    "#### / Devision oprator"
   ]
  },
  {
   "cell_type": "markdown",
   "id": "8fb8957a",
   "metadata": {},
   "source": [
    "#### + additional oprator"
   ]
  },
  {
   "cell_type": "markdown",
   "id": "8597d280",
   "metadata": {},
   "source": [
    "#### 6 is positive Integer"
   ]
  },
  {
   "cell_type": "markdown",
   "id": "fdbede56",
   "metadata": {},
   "source": [
    "###  2. What is the difference between string and variable?"
   ]
  },
  {
   "cell_type": "markdown",
   "id": "2d1719cf",
   "metadata": {},
   "source": [
    "####  Variable is the identifier to store the value in a memory loction and it can be manipulate if it needed.But String is immutable  data type."
   ]
  },
  {
   "cell_type": "markdown",
   "id": "5d769b06",
   "metadata": {},
   "source": [
    "### 3. Describe three different data types."
   ]
  },
  {
   "cell_type": "markdown",
   "id": "7f16f8aa",
   "metadata": {},
   "source": [
    "#### Numeric- Numeric data type it may integer,float , and complex.ex:- 1,1.1,1+94j\n",
    "####  string- A string is sequence of unic code charecter and it is immutable data type.ex:-\"punith\"\n",
    "####  Boolean- Boolean data type give the True and False value."
   ]
  },
  {
   "cell_type": "markdown",
   "id": "1f2c937b",
   "metadata": {},
   "source": [
    "### 4. What is an expression made up of? What do all expressions do?"
   ]
  },
  {
   "cell_type": "markdown",
   "id": "ceb65450",
   "metadata": {},
   "source": [
    "#### Expression is combination of operands and oprators .Expression interpreted to produce some value ."
   ]
  },
  {
   "cell_type": "markdown",
   "id": "8b5cccbc",
   "metadata": {},
   "source": [
    "### 5. This assignment statements, like spam = 10. What is the difference between an expression and a statement?"
   ]
  },
  {
   "cell_type": "markdown",
   "id": "ca462328",
   "metadata": {},
   "source": [
    "#### Expression interpreted to produce some value after some mathematical opration.But in statement fixed value in assign in the variable that can be manipulate if it needed."
   ]
  },
  {
   "cell_type": "markdown",
   "id": "a2b068d8",
   "metadata": {},
   "source": [
    "### 6. After running the following code, what does the variable bacon contain?\n",
    "### bacon = 22\n",
    "### bacon + 1\n"
   ]
  },
  {
   "cell_type": "markdown",
   "id": "515aba10",
   "metadata": {},
   "source": [
    "####                         ans:-   The variable bacon contain 22,after running the code."
   ]
  },
  {
   "cell_type": "markdown",
   "id": "e8a851b1",
   "metadata": {},
   "source": [
    "### 7. What should the values of the following two terms be?\n",
    "### 'spam' + 'spamspam'\n",
    "### 'spam' * 3\n"
   ]
  },
  {
   "cell_type": "markdown",
   "id": "99fce2ce",
   "metadata": {},
   "source": [
    "#### ans:- The value of 'spam'+'spamspam' is 'spamspamspam' (here concatenation of string occurs) \n",
    "#### The value of 'spam'*3 is 'spamspamspam'(here multiplication of string occurs)\n"
   ]
  },
  {
   "cell_type": "markdown",
   "id": "946ffc99",
   "metadata": {},
   "source": [
    "### 8. Why is eggs a valid variable name while 100 is invalid?"
   ]
  },
  {
   "cell_type": "markdown",
   "id": "b761758b",
   "metadata": {},
   "source": [
    "#### ans:- eggs variable name is valid it start with alphabete but 100 is integer.In python integer can not used as variable name.we can use eggs100 as variable name ."
   ]
  },
  {
   "cell_type": "markdown",
   "id": "10ab8c86",
   "metadata": {},
   "source": [
    "### 9. What three functions can be used to get the integer, floating-point number, or string version of a value?"
   ]
  },
  {
   "cell_type": "markdown",
   "id": "f9c696d9",
   "metadata": {},
   "source": [
    "#### int()\n",
    "#### float()\n",
    "#### str()"
   ]
  },
  {
   "cell_type": "markdown",
   "id": "dd2758b6",
   "metadata": {},
   "source": [
    "### 10. Why does this expression cause an error? How can you fix it?\n",
    "### 'I have eaten ' + 99 + ' burritos.'\n",
    "\n"
   ]
  },
  {
   "cell_type": "markdown",
   "id": "a1438a37",
   "metadata": {},
   "source": [
    "#### Expression cause an error due to 99 is an integer. In python , concatenation of string to string  is possible,concatenation of string to integer   is not possible .By converting integer to string useing str() we can fix it."
   ]
  },
  {
   "cell_type": "code",
   "execution_count": 17,
   "id": "ab1884c5",
   "metadata": {},
   "outputs": [
    {
     "data": {
      "text/plain": [
       "'I have eaten99burritos'"
      ]
     },
     "execution_count": 17,
     "metadata": {},
     "output_type": "execute_result"
    }
   ],
   "source": [
    "'I have eaten'+str(99)+'burritos'"
   ]
  },
  {
   "cell_type": "markdown",
   "id": "588179e0",
   "metadata": {},
   "source": [
    "## Or"
   ]
  },
  {
   "cell_type": "code",
   "execution_count": 18,
   "id": "db8f9005",
   "metadata": {},
   "outputs": [
    {
     "data": {
      "text/plain": [
       "'I have eaten99burritos'"
      ]
     },
     "execution_count": 18,
     "metadata": {},
     "output_type": "execute_result"
    }
   ],
   "source": [
    "'I have eaten'+'99'+'burritos'"
   ]
  }
 ],
 "metadata": {
  "kernelspec": {
   "display_name": "Python 3",
   "language": "python",
   "name": "python3"
  },
  "language_info": {
   "codemirror_mode": {
    "name": "ipython",
    "version": 3
   },
   "file_extension": ".py",
   "mimetype": "text/x-python",
   "name": "python",
   "nbconvert_exporter": "python",
   "pygments_lexer": "ipython3",
   "version": "3.8.8"
  }
 },
 "nbformat": 4,
 "nbformat_minor": 5
}
